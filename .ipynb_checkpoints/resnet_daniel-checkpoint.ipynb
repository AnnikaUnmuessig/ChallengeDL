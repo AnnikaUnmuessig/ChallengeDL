{
 "cells": [
  {
   "cell_type": "code",
   "execution_count": 8,
   "id": "3bd4ac8f-5d23-45ee-ae10-06e1ad1eee15",
   "metadata": {},
   "outputs": [
    {
     "name": "stdout",
     "output_type": "stream",
     "text": [
      "['test', 'train', 'val']\n",
      "Classes: {0: 'no_fire', 1: 'fire'}\n",
      "Dataset Sizes: {'train': 10926, 'val': 3121}\n"
     ]
    }
   ],
   "source": [
    "import os\n",
    "import torch\n",
    "import shutil\n",
    "from torchvision import datasets, transforms\n",
    "from torch.utils.data import DataLoader\n",
    "\n",
    "# Define class mapping\n",
    "class_names = {0: \"no_fire\", 1: \"fire\"}\n",
    "\n",
    "# Data transformations\n",
    "data_transforms = {\n",
    "    \"train\": transforms.Compose([\n",
    "        transforms.Resize((224, 224)),\n",
    "        transforms.RandomHorizontalFlip(),\n",
    "        transforms.ToTensor(),\n",
    "        transforms.Normalize(mean=[0.485, 0.456, 0.406], std=[0.229, 0.224, 0.225]),\n",
    "    ]),\n",
    "    \"val\": transforms.Compose([\n",
    "        transforms.Resize((224, 224)),\n",
    "        transforms.ToTensor(),\n",
    "        transforms.Normalize(mean=[0.485, 0.456, 0.406], std=[0.229, 0.224, 0.225]),\n",
    "    ]),\n",
    "    \"test\": transforms.Compose([\n",
    "        transforms.Resize((224, 224)),\n",
    "        transforms.ToTensor(),\n",
    "        transforms.Normalize(mean=[0.485, 0.456, 0.406], std=[0.229, 0.224, 0.225]),\n",
    "    ]),\n",
    "}\n",
    "\n",
    "# Define a custom function to load datasets with subfolders named as \"0\" and \"1\"\n",
    "def load_binary_dataset(data_dir, transform):\n",
    "    datasets_list = []\n",
    "    for label in ['fire', 'noFire']:  # Iterate through 'fire' and 'noFire' folders\n",
    "        folder_path = os.path.join(data_dir, label)\n",
    "        print(folder_path)\n",
    "        datasets_list.append(datasets.ImageFolder(folder_path, transform=transform))\n",
    "        print(datasets_list)\n",
    "    return torch.utils.data.ConcatDataset(datasets_list)\n",
    "\n",
    "# Load datasets\n",
    "data_dir = \"dl2425_challenge_dataset\"\n",
    "\n",
    "def remove_ipynb_checkpoints(root_dir):\n",
    "    for subdir, dirs, files in os.walk(root_dir):\n",
    "        for dir_name in dirs:\n",
    "            if dir_name.startswith('.ipynb_checkpoints'):\n",
    "                dir_path = os.path.join(subdir, dir_name)\n",
    "                shutil.rmtree(dir_path)\n",
    "                print(f\"Removed folder: {dir_path}\")\n",
    "\n",
    "# Apply to dataset folder\n",
    "remove_ipynb_checkpoints(data_dir)\n",
    "print(os.listdir(data_dir))\n",
    "\n",
    "#test_dataset = datasets.ImageFolder(os.path.join(data_dir, \"test\"), transform=data_transforms[\"test\"])\n",
    "train_dataset =  datasets.ImageFolder(root='dl2425_challenge_dataset/train', transform=data_transforms[\"train\"])\n",
    "val_dataset =  datasets.ImageFolder(root='dl2425_challenge_dataset/val', transform=data_transforms[\"val\"])\n",
    "\n",
    "\n",
    "# Data loaders\n",
    "batch_size = 32\n",
    "dataloaders = {\n",
    "    \"train\": DataLoader(train_dataset, batch_size=batch_size, shuffle=True),\n",
    "    \"val\": DataLoader(val_dataset, batch_size=batch_size, shuffle=False),\n",
    "   # \"test\": DataLoader(test_dataset, batch_size=batch_size, shuffle=False),\n",
    "}\n",
    "\n",
    "# Dataset sizes\n",
    "dataset_sizes = {\n",
    "    \"train\": len(train_dataset),\n",
    "    \"val\": len(val_dataset),\n",
    "    #\"test\": len(test_dataset),\n",
    "}\n",
    "\n",
    "print(f\"Classes: {class_names}\")\n",
    "print(f\"Dataset Sizes: {dataset_sizes}\")\n",
    "\n",
    "device = torch.device(\"cuda:0\" if torch.cuda.is_available() else \"cpu\")"
   ]
  },
  {
   "cell_type": "code",
   "execution_count": 10,
   "id": "8442fe8a-7510-4498-8c73-8a56ba0017d3",
   "metadata": {},
   "outputs": [
    {
     "name": "stdout",
     "output_type": "stream",
     "text": [
      "done\n"
     ]
    }
   ],
   "source": [
    "from torchvision import models\n",
    "import torch.nn as nn\n",
    "\n",
    "# Load pre-trained ResNet\n",
    "model = models.resnet18(pretrained=True)\n",
    "\n",
    "# Modify the final layer for binary classification\n",
    "num_features = model.fc.in_features\n",
    "model.fc = nn.Linear(num_features, 1)  # Binary classification requires 1 output (logit)\n",
    "\n",
    "model = model.to(device)\n",
    "print('done')"
   ]
  },
  {
   "cell_type": "code",
   "execution_count": 11,
   "id": "135e26ab-d890-43dd-874f-d68c5cf7b64d",
   "metadata": {},
   "outputs": [
    {
     "name": "stdout",
     "output_type": "stream",
     "text": [
      "done\n"
     ]
    }
   ],
   "source": [
    "import torch.optim as optim\n",
    "\n",
    "criterion = nn.BCEWithLogitsLoss()  # Combines Sigmoid activation and BCELoss\n",
    "optimizer = optim.SGD(model.parameters(), lr=0.001, momentum=0.9)\n",
    "scheduler = optim.lr_scheduler.StepLR(optimizer, step_size=7, gamma=0.1)  # Reduce LR every 7 epochs\n",
    "print('done')"
   ]
  },
  {
   "cell_type": "code",
   "execution_count": 12,
   "id": "50244408-d8fe-4980-a053-2b385fec36f5",
   "metadata": {},
   "outputs": [
    {
     "name": "stdout",
     "output_type": "stream",
     "text": [
      "done\n"
     ]
    }
   ],
   "source": [
    "def train_model(model, criterion, optimizer, scheduler, num_epochs=25):\n",
    "    best_model_wts = model.state_dict()\n",
    "    best_acc = 0.0\n",
    "\n",
    "    for epoch in range(num_epochs):\n",
    "        print(f\"Epoch {epoch+1}/{num_epochs}\")\n",
    "        print('-' * 10)\n",
    "\n",
    "        # Each epoch has a training and validation phase\n",
    "        for phase in ['train', 'val']:\n",
    "            if phase == 'train':\n",
    "                model.train()\n",
    "            else:\n",
    "                model.eval()\n",
    "\n",
    "            running_loss = 0.0\n",
    "            running_corrects = 0\n",
    "\n",
    "            # Iterate over data\n",
    "            for inputs, labels in dataloaders[phase]:\n",
    "                inputs, labels = inputs.to(device), labels.to(device)\n",
    "\n",
    "                # Binary classification labels need to be float (0.0 or 1.0)\n",
    "                labels = labels.float().unsqueeze(1)\n",
    "\n",
    "                # Zero the parameter gradients\n",
    "                optimizer.zero_grad()\n",
    "\n",
    "                # Forward pass\n",
    "                with torch.set_grad_enabled(phase == 'train'):\n",
    "                    outputs = model(inputs)\n",
    "                    loss = criterion(outputs, labels)\n",
    "                    preds = torch.sigmoid(outputs) > 0.5  # Convert logits to binary predictions\n",
    "\n",
    "                    # Backward + optimize only in training phase\n",
    "                    if phase == 'train':\n",
    "                        loss.backward()\n",
    "                        optimizer.step()\n",
    "\n",
    "                # Statistics\n",
    "                running_loss += loss.item() * inputs.size(0)\n",
    "                running_corrects += torch.sum(preds == labels.data)\n",
    "\n",
    "            if phase == 'train':\n",
    "                scheduler.step()\n",
    "\n",
    "            epoch_loss = running_loss / dataset_sizes[phase]\n",
    "            epoch_acc = running_corrects.double() / dataset_sizes[phase]\n",
    "\n",
    "            print(f\"{phase} Loss: {epoch_loss:.4f} Acc: {epoch_acc:.4f}\")\n",
    "\n",
    "            # Deep copy the model\n",
    "            if phase == 'val' and epoch_acc > best_acc:\n",
    "                best_acc = epoch_acc\n",
    "                best_model_wts = model.state_dict()\n",
    "\n",
    "    print(f\"Best val Acc: {best_acc:4f}\")\n",
    "    model.load_state_dict(best_model_wts)\n",
    "    return model\n",
    "    \n",
    "print('done')"
   ]
  },
  {
   "cell_type": "code",
   "execution_count": null,
   "id": "d549c350-bc83-4377-93ce-314e64d73c47",
   "metadata": {},
   "outputs": [
    {
     "name": "stdout",
     "output_type": "stream",
     "text": [
      "Epoch 1/5\n",
      "----------\n",
      "train Loss: 0.1523 Acc: 0.9468\n",
      "val Loss: 0.0610 Acc: 0.9814\n",
      "Epoch 2/5\n",
      "----------\n",
      "train Loss: 0.0629 Acc: 0.9795\n",
      "val Loss: 0.0527 Acc: 0.9833\n",
      "Epoch 3/5\n",
      "----------\n",
      "train Loss: 0.0392 Acc: 0.9884\n",
      "val Loss: 0.0534 Acc: 0.9821\n",
      "Epoch 4/5\n",
      "----------\n"
     ]
    }
   ],
   "source": [
    "num_epochs = 5\n",
    "model = train_model(model, criterion, optimizer, scheduler, num_epochs)\n",
    "print('done')"
   ]
  },
  {
   "cell_type": "code",
   "execution_count": null,
   "id": "1b57a455-5ae2-4d1b-a447-fde8b8914712",
   "metadata": {},
   "outputs": [],
   "source": [
    "def test_model(model):\n",
    "    model.eval()\n",
    "    correct = 0\n",
    "    total = 0\n",
    "\n",
    "    with torch.no_grad():\n",
    "        for inputs, labels in dataloaders['test']:\n",
    "            inputs, labels = inputs.to(device), labels.to(device)\n",
    "            labels = labels.float().unsqueeze(1)\n",
    "\n",
    "            outputs = model(inputs)\n",
    "            preds = torch.sigmoid(outputs) > 0.5\n",
    "            correct += torch.sum(preds == labels.data)\n",
    "            total += labels.size(0)\n",
    "\n",
    "    test_acc = correct.double() / total\n",
    "    print(f\"Test Accuracy: {test_acc:.4f}\")\n",
    "\n",
    "test_model(model)\n"
   ]
  },
  {
   "cell_type": "code",
   "execution_count": null,
   "id": "c4d1c181-7b8f-44c5-84b0-d3b920a6f2bc",
   "metadata": {},
   "outputs": [],
   "source": [
    "torch.save(model.state_dict(), 'best_fire_classifier.pth')\n"
   ]
  },
  {
   "cell_type": "code",
   "execution_count": null,
   "id": "a063bd77-e634-4d69-8a5f-614d914637ae",
   "metadata": {},
   "outputs": [],
   "source": [
    "model.load_state_dict(torch.load('best_fire_classifier.pth'))\n",
    "model.eval()\n",
    "\n",
    "def predict_image(image_path):\n",
    "    from PIL import Image\n",
    "    image = Image.open(image_path).convert('RGB')\n",
    "    transform = data_transforms['test']\n",
    "    input_tensor = transform(image).unsqueeze(0).to(device)\n",
    "    with torch.no_grad():\n",
    "        output = model(input_tensor)\n",
    "        prob = torch.sigmoid(output).item()\n",
    "        return \"Fire\" if prob > 0.5 else \"No Fire\", prob\n"
   ]
  },
  {
   "cell_type": "code",
   "execution_count": null,
   "id": "c38d8795-949a-4453-a1fa-d8336fd14eb7",
   "metadata": {},
   "outputs": [],
   "source": [
    "result, probability = predict_image(\"path_to_image.jpg\")\n",
    "print(f\"Result: {result}, Probability: {probability}\")"
   ]
  }
 ],
 "metadata": {
  "kernelspec": {
   "display_name": "Python 3 (ipykernel)",
   "language": "python",
   "name": "python3"
  },
  "language_info": {
   "codemirror_mode": {
    "name": "ipython",
    "version": 3
   },
   "file_extension": ".py",
   "mimetype": "text/x-python",
   "name": "python",
   "nbconvert_exporter": "python",
   "pygments_lexer": "ipython3",
   "version": "3.11.8"
  }
 },
 "nbformat": 4,
 "nbformat_minor": 5
}
