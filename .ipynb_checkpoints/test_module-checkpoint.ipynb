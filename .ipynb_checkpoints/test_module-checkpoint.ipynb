{
 "cells": [
  {
   "cell_type": "code",
   "execution_count": 8,
   "id": "23647e51-7165-4a30-878d-12872cf9ffd7",
   "metadata": {},
   "outputs": [],
   "source": [
    "from PIL import Image\n",
    "import os\n",
    "import csv\n",
    "import torch\n",
    "import torch.nn as nn\n",
    "from torchvision import models, transforms\n",
    "from torch.utils.data import DataLoader"
   ]
  },
  {
   "cell_type": "code",
   "execution_count": 16,
   "id": "d8aa745c-3dd5-43d6-b6a3-7c056db691b5",
   "metadata": {},
   "outputs": [],
   "source": [
    "def test_model_and_save_results(model, test_dir, output_csv):\n",
    "    model.eval()  # Set the model to evaluation mode\n",
    "\n",
    "    results = []  # To store results for the CSV\n",
    "\n",
    "    # Disable gradient computation during inference\n",
    "    with torch.no_grad():\n",
    "        for file_name in os.listdir(test_dir):\n",
    "            file_path = os.path.join(test_dir, file_name)\n",
    "\n",
    "            # Check if the file is an image\n",
    "            if not file_name.lower().endswith(('.jpg', '.jpeg', '.png')):\n",
    "                continue\n",
    "\n",
    "            # Load and preprocess the image\n",
    "            image = Image.open(file_path).convert(\"RGB\")\n",
    "            processed_image = test_transform(image).unsqueeze(0)\n",
    "\n",
    "            # Perform inference\n",
    "            # The model outputs a value between -1 and 1\n",
    "            outputs = model(processed_image)\n",
    "            # We need a probability score, this is why we apply sigmoid to outputs\n",
    "            # We assume that if score >0.5 then the image contains a fire\n",
    "            # IMPORTANT: the model outputs a logi between -1 and 1 \n",
    "            # in this case the model outputs how likeley a picture is to \n",
    "            # NOT have a fire ( ~ -1: fire , ~ 1: NO fire )\n",
    "            preds = torch.sigmoid(outputs) < 0.5  \n",
    "            predicted_class = int(preds.item())  # Convert to 0 or 1\n",
    "\n",
    "            # Append result\n",
    "            results.append({'id': file_name, 'class': predicted_class})\n",
    "            \n",
    "    with open(output_csv, mode='w', newline='') as file:\n",
    "        writer = csv.DictWriter(file, fieldnames=['id', 'class'])\n",
    "        writer.writeheader()\n",
    "        writer.writerows(results)\n",
    "\n",
    "    print(f\"Results saved to {output_csv}\")"
   ]
  },
  {
   "cell_type": "code",
   "execution_count": 13,
   "id": "2722b82d-318c-47a0-b861-bcb34598dfeb",
   "metadata": {},
   "outputs": [],
   "source": [
    "# PREPARE THE PARAMETERS FOR TEST FUNCTION\n",
    "\n",
    "# Define the model structure\n",
    "def get_model_resnet18():\n",
    "    model = models.resnet18(pretrained=True)  # Load pretrained ResNet18\n",
    "    num_ftrs = model.fc.in_features\n",
    "    model.fc = nn.Linear(num_ftrs, 1)  # Modify the last layer for binary classification\n",
    "    return model\n",
    "    \n",
    "# Import the model trained on kaggle\n",
    "model = get_model_resnet18()\n",
    "model.load_state_dict(torch.load(\"resnet18-15ep.pth\", map_location=torch.device('cpu')))\n",
    "\n",
    "# Define the transformations to pre-process test data, \n",
    "# Make sure it's the same transformation as for validation and training\n",
    "test_transform = transforms.Compose([\n",
    "    transforms.Resize((224, 224)),\n",
    "    transforms.ToTensor(),\n",
    "    transforms.Normalize(mean=[0.485, 0.456, 0.406], std=[0.229, 0.224, 0.225])\n",
    "])\n",
    "\n",
    "# Path to test dir\n",
    "test_dir = \"dl2425_challenge_dataset/test\"\n",
    "\n",
    "# output csv file path\n",
    "output_csv = \"test_v1.csv\""
   ]
  },
  {
   "cell_type": "code",
   "execution_count": 19,
   "id": "a928f429-a4fb-4754-b5b9-08eccc5c2d71",
   "metadata": {},
   "outputs": [
    {
     "name": "stdout",
     "output_type": "stream",
     "text": [
      "Results saved to test_v1.csv\n"
     ]
    }
   ],
   "source": [
    "test_model_and_save_results(model, test_dir, output_csv)"
   ]
  },
  {
   "cell_type": "code",
   "execution_count": 18,
   "id": "d1efa4f3-2dd3-4c70-8839-ef4c116caceb",
   "metadata": {},
   "outputs": [],
   "source": [
    "# Use this to empty a csv file\n",
    "with open(output_csv, 'w'):\n",
    "    pass  # This will truncate the file to 0 length, removing all its content"
   ]
  }
 ],
 "metadata": {
  "kernelspec": {
   "display_name": "Python 3 (ipykernel)",
   "language": "python",
   "name": "python3"
  },
  "language_info": {
   "codemirror_mode": {
    "name": "ipython",
    "version": 3
   },
   "file_extension": ".py",
   "mimetype": "text/x-python",
   "name": "python",
   "nbconvert_exporter": "python",
   "pygments_lexer": "ipython3",
   "version": "3.11.8"
  }
 },
 "nbformat": 4,
 "nbformat_minor": 5
}
