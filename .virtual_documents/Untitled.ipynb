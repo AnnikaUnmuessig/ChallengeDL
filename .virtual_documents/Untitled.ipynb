import os
import torch
from torchvision import datasets, transforms
from torch.utils.data import DataLoader

# Define class mapping
class_names = {0: "no_fire", 1: "fire"}

# Data transformations
data_transforms = {
    "train": transforms.Compose([
        transforms.Resize((224, 224)),
        transforms.RandomHorizontalFlip(),
        transforms.ToTensor(),
        transforms.Normalize(mean=[0.485, 0.456, 0.406], std=[0.229, 0.224, 0.225]),
    ]),
    "val": transforms.Compose([
        transforms.Resize((224, 224)),
        transforms.ToTensor(),
        transforms.Normalize(mean=[0.485, 0.456, 0.406], std=[0.229, 0.224, 0.225]),
    ]),
    "test": transforms.Compose([
        transforms.Resize((224, 224)),
        transforms.ToTensor(),
        transforms.Normalize(mean=[0.485, 0.456, 0.406], std=[0.229, 0.224, 0.225]),
    ]),
}

# Define a custom function to load datasets with subfolders named as "0" and "1"
def load_binary_dataset(data_dir, transform):
    datasets_list = []
    for label in ['fire', 'noFire']:  # Iterate through 'fire' and 'noFire' folders
        folder_path = os.path.join(data_dir, label)
        print(folder_path)
        datasets_list.append(datasets.ImageFolder(folder_path, transform=transform))
        print(datasets_list)
    return torch.utils.data.ConcatDataset(datasets_list)

# Load datasets
data_dir = "dl2425_challenge_dataset"
print(os.listdir(data_dir))

test_dataset = datasets.ImageFolder(os.path.join(data_dir, "test"), transform=data_transforms["test"])
print('im alive')
train_dataset =  datasets.ImageFolder(root='dl2425_challenge_dataset/train', transform=data_transforms["train"])
val_dataset =  datasets.ImageFolder(root='dl2425_challenge_dataset/val', transform=data_transforms["cal"])


# Data loaders
batch_size = 32
dataloaders = {
    "train": DataLoader(train_dataset, batch_size=batch_size, shuffle=True),
    "val": DataLoader(val_dataset, batch_size=batch_size, shuffle=False),
    "test": DataLoader(test_dataset, batch_size=batch_size, shuffle=False),
}

# Dataset sizes
dataset_sizes = {
    "train": len(train_dataset),
    "val": len(val_dataset),
    "test": len(test_dataset),
}

print(f"Classes: {class_names}")
print(f"Dataset Sizes: {dataset_sizes}")



from torchvision import models
import torch.nn as nn

# Load pre-trained ResNet
model = models.resnet18(pretrained=True)

# Modify the final layer for binary classification
num_features = model.fc.in_features
model.fc = nn.Linear(num_features, 1)  # Binary classification requires 1 output (logit)

model = model.to(device)



import torch.optim as optim

criterion = nn.BCEWithLogitsLoss()  # Combines Sigmoid activation and BCELoss
optimizer = optim.SGD(model.parameters(), lr=0.001, momentum=0.9)
scheduler = optim.lr_scheduler.StepLR(optimizer, step_size=7, gamma=0.1)  # Reduce LR every 7 epochs



def train_model(model, criterion, optimizer, scheduler, num_epochs=25):
    best_model_wts = model.state_dict()
    best_acc = 0.0

    for epoch in range(num_epochs):
        print(f"Epoch {epoch+1}/{num_epochs}")
        print('-' * 10)

        # Each epoch has a training and validation phase
        for phase in ['train', 'val']:
            if phase == 'train':
                model.train()
            else:
                model.eval()

            running_loss = 0.0
            running_corrects = 0

            # Iterate over data
            for inputs, labels in dataloaders[phase]:
                inputs, labels = inputs.to(device), labels.to(device)

                # Binary classification labels need to be float (0.0 or 1.0)
                labels = labels.float().unsqueeze(1)

                # Zero the parameter gradients
                optimizer.zero_grad()

                # Forward pass
                with torch.set_grad_enabled(phase == 'train'):
                    outputs = model(inputs)
                    loss = criterion(outputs, labels)
                    preds = torch.sigmoid(outputs) > 0.5  # Convert logits to binary predictions

                    # Backward + optimize only in training phase
                    if phase == 'train':
                        loss.backward()
                        optimizer.step()

                # Statistics
                running_loss += loss.item() * inputs.size(0)
                running_corrects += torch.sum(preds == labels.data)

            if phase == 'train':
                scheduler.step()

            epoch_loss = running_loss / dataset_sizes[phase]
            epoch_acc = running_corrects.double() / dataset_sizes[phase]

            print(f"{phase} Loss: {epoch_loss:.4f} Acc: {epoch_acc:.4f}")

            # Deep copy the model
            if phase == 'val' and epoch_acc > best_acc:
                best_acc = epoch_acc
                best_model_wts = model.state_dict()

    print(f"Best val Acc: {best_acc:4f}")
    model.load_state_dict(best_model_wts)
    return model



num_epochs = 5
model = train_model(model, criterion, optimizer, scheduler, num_epochs)



def test_model(model):
    model.eval()
    correct = 0
    total = 0

    with torch.no_grad():
        for inputs, labels in dataloaders['test']:
            inputs, labels = inputs.to(device), labels.to(device)
            labels = labels.float().unsqueeze(1)

            outputs = model(inputs)
            preds = torch.sigmoid(outputs) > 0.5
            correct += torch.sum(preds == labels.data)
            total += labels.size(0)

    test_acc = correct.double() / total
    print(f"Test Accuracy: {test_acc:.4f}")

test_model(model)



torch.save(model.state_dict(), 'best_fire_classifier.pth')



model.load_state_dict(torch.load('best_fire_classifier.pth'))
model.eval()

def predict_image(image_path):
    from PIL import Image
    image = Image.open(image_path).convert('RGB')
    transform = data_transforms['test']
    input_tensor = transform(image).unsqueeze(0).to(device)
    with torch.no_grad():
        output = model(input_tensor)
        prob = torch.sigmoid(output).item()
        return "Fire" if prob > 0.5 else "No Fire", prob



result, probability = predict_image("path_to_image.jpg")
print(f"Result: {result}, Probability: {probability}")
